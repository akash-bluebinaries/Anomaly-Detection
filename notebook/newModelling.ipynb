{
 "cells": [
  {
   "cell_type": "code",
   "execution_count": null,
   "metadata": {},
   "outputs": [],
   "source": [
    "import os,sys\n",
    "import pandas as pd\n",
    "import numpy as np\n",
    "import matplotlib.pyplot as plt\n",
    "import seaborn as sns"
   ]
  },
  {
   "cell_type": "code",
   "execution_count": null,
   "metadata": {},
   "outputs": [],
   "source": [
    "df = pd.read_csv('D:/bmsAnomalyDetection/application/Anomaly-detection/notebook/data/labelled_data.csv')\n",
    "pd.set_option('display.max_columns', None)\n",
    "df.head()"
   ]
  },
  {
   "cell_type": "code",
   "execution_count": null,
   "metadata": {},
   "outputs": [],
   "source": [
    "from pycaret.classification import *\n",
    "from imblearn.over_sampling import RandomOverSampler\n",
    "\n",
    "\n",
    "ignore = ['Unnamed: 0','Anomaly_Score','timestamps']\n",
    "\n",
    "# Initialize the setup\n",
    "clf1 = setup(data=df,target='Anomaly',\n",
    "             session_id=123,\n",
    "             train_size=0.7,\n",
    "             preprocess=True,\n",
    "             imputation_type='simple',\n",
    "             categorical_imputation='mode',\n",
    "             numeric_imputation='mean',\n",
    "             normalize=True,\n",
    "             ignore_features=ignore,\n",
    "             normalize_method='robust',\n",
    "             combine_rare_levels=True,\n",
    "             rare_level_threshold=0.1,\n",
    "             data_split_stratify=True,\n",
    "             fold_strategy='stratifiedkfold',\n",
    "             fold=3,\n",
    "             fold_shuffle=True,\n",
    "             n_jobs=None,\n",
    "             silent=True,fix_imbalance=True,\n",
    "             fix_imbalance_method=RandomOverSampler(),\n",
    "             ignore_low_variance=True,\n",
    "             handle_unknown_categorical=True,\n",
    "             unknown_categorical_method='least_frequent',\n",
    "             feature_selection=True,\n",
    "             feature_selection_method= \"classic\",\n",
    "             )"
   ]
  },
  {
   "cell_type": "code",
   "execution_count": null,
   "metadata": {},
   "outputs": [],
   "source": [
    "# Comparing models to find the best one\n",
    "best = compare_models()"
   ]
  },
  {
   "cell_type": "code",
   "execution_count": null,
   "metadata": {},
   "outputs": [],
   "source": [
    "evaluate_model(best)"
   ]
  },
  {
   "cell_type": "code",
   "execution_count": null,
   "metadata": {},
   "outputs": [],
   "source": [
    "predict_model(best)"
   ]
  },
  {
   "cell_type": "code",
   "execution_count": null,
   "metadata": {},
   "outputs": [],
   "source": [
    "# Save the model\n",
    "\n",
    "save_model(best, 'bestPipeline')"
   ]
  },
  {
   "cell_type": "code",
   "execution_count": null,
   "metadata": {},
   "outputs": [],
   "source": [
    "loaded_model = load_model('bestPipeline')"
   ]
  },
  {
   "cell_type": "code",
   "execution_count": null,
   "metadata": {},
   "outputs": [],
   "source": []
  }
 ],
 "metadata": {
  "kernelspec": {
   "display_name": "pycaretTest",
   "language": "python",
   "name": "python3"
  },
  "language_info": {
   "codemirror_mode": {
    "name": "ipython",
    "version": 3
   },
   "file_extension": ".py",
   "mimetype": "text/x-python",
   "name": "python",
   "nbconvert_exporter": "python",
   "pygments_lexer": "ipython3",
   "version": "3.7.0"
  }
 },
 "nbformat": 4,
 "nbformat_minor": 2
}
