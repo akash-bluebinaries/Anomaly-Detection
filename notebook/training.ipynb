{
 "cells": [
  {
   "cell_type": "code",
   "execution_count": 1,
   "metadata": {},
   "outputs": [],
   "source": [
    "# Importing necessary libraries\n",
    "\n",
    "import pandas as pd\n",
    "import numpy as np\n",
    "\n",
    "from sklearn.pipeline import Pipeline\n",
    "from sklearn.impute import SimpleImputer\n",
    "from sklearn.preprocessing import StandardScaler\n",
    "from sklearn.compose import ColumnTransformer\n",
    "from sklearn.ensemble import RandomForestClassifier\n",
    "from imblearn.over_sampling import RandomOverSampler\n",
    "from sklearn.model_selection import train_test_split\n",
    "from sklearn.metrics import accuracy_score\n",
    "import joblib"
   ]
  },
  {
   "cell_type": "code",
   "execution_count": 2,
   "metadata": {},
   "outputs": [],
   "source": [
    "# Importing labelled dataset from the detection module\n",
    "\n",
    "df = pd.read_csv('D:/bmsAnomalyDetection/application/Anomaly-detection/notebook/data/labelledData.csv')"
   ]
  },
  {
   "cell_type": "code",
   "execution_count": 3,
   "metadata": {},
   "outputs": [],
   "source": [
    "# Correcting data-type of categorical features and dropping few irrelevant like: 'Anomaly_Score','Unnamed: 0','timestamps'\n",
    "\n",
    "df['BMS_max_cell_temp_id'] = df['BMS_max_cell_temp_id'].astype('object')\n",
    "df['BMS_state'] = df['BMS_state'].astype('object')\n",
    "df['BMS_min_cell_temp_id'] = df['BMS_min_cell_temp_id'].astype('object')\n",
    "df['BMS_max_cell_voltage_id'] = df['BMS_max_cell_voltage_id'].astype('object')\n",
    "df['BMS_min_cell_voltage_id'] = df['BMS_min_cell_voltage_id'].astype('object')\n",
    "df['OBC_mux'] = df['OBC_mux'].astype('object')\n",
    "df['OBC_port_status'] = df['OBC_port_status'].astype('object')\n",
    "df['OBC_overvoltage_fault'] = df['OBC_overvoltage_fault'].astype('object')\n",
    "df['OBC_overcurrent_fault'] = df['OBC_overcurrent_fault'].astype('object')\n",
    "df['OBC_port_weld_fault'] = df['OBC_port_weld_fault'].astype('object')\n",
    "df['Anomaly'] = df['Anomaly'].astype('object')\n",
    "\n",
    "df = df.drop(['Anomaly_Score','Unnamed: 0','timestamps'], axis = 1)"
   ]
  },
  {
   "cell_type": "code",
   "execution_count": 4,
   "metadata": {},
   "outputs": [],
   "source": [
    "# Isolating predictor features from target feature\n",
    "\n",
    "x = df.drop('Anomaly', axis =1)\n",
    "y = df['Anomaly'].astype('int')"
   ]
  },
  {
   "cell_type": "code",
   "execution_count": 5,
   "metadata": {},
   "outputs": [],
   "source": [
    "# Isolating Numerical & Categorical variables\n",
    "\n",
    "char = []\n",
    "num = []\n",
    "\n",
    "for i in x.columns:\n",
    "    if x[i].dtype == 'object':\n",
    "        char.append(i)\n",
    "    else:\n",
    "        num.append(i)"
   ]
  },
  {
   "cell_type": "code",
   "execution_count": 6,
   "metadata": {},
   "outputs": [],
   "source": [
    "# Numeric transformations: Impute missing values and scaling\n",
    "\n",
    "numeric_transformer = Pipeline(steps=[\n",
    "    ('imputer', SimpleImputer(strategy='mean')),\n",
    "    ('scaler', StandardScaler())\n",
    "])\n",
    "\n",
    "# Categorical transformations: Impute missing and OneHotEncode\n",
    "\n",
    "categorical_transformer = Pipeline(steps=[\n",
    "    ('imputer', SimpleImputer(strategy='most_frequent'))\n",
    "])"
   ]
  },
  {
   "cell_type": "code",
   "execution_count": 7,
   "metadata": {},
   "outputs": [],
   "source": [
    "# Use ColumnTransformer to apply transformations\n",
    "\n",
    "preprocessor = ColumnTransformer(\n",
    "    transformers=[\n",
    "        ('num', numeric_transformer, num),\n",
    "        ('cat', categorical_transformer, char)\n",
    "    ])"
   ]
  },
  {
   "cell_type": "code",
   "execution_count": 8,
   "metadata": {},
   "outputs": [],
   "source": [
    "# Create the final pipeline\n",
    "\n",
    "pipeline = Pipeline(steps=[\n",
    "    ('preprocessor', preprocessor),\n",
    "    ('classifier', RandomForestClassifier(n_estimators=100, random_state=42))\n",
    "])\n"
   ]
  },
  {
   "cell_type": "code",
   "execution_count": 9,
   "metadata": {},
   "outputs": [],
   "source": [
    "# Performing RandomOverSampling to address Imbalance data\n",
    "\n",
    "sampler = RandomOverSampler(random_state=0,sampling_strategy='auto')\n",
    "x_resampled, y_resampled = sampler.fit_resample(x,y)"
   ]
  },
  {
   "cell_type": "code",
   "execution_count": 10,
   "metadata": {},
   "outputs": [],
   "source": [
    "# Train test split\n",
    "\n",
    "x_train, x_test,y_train, y_test = train_test_split(x_resampled, y_resampled, test_size=0.3, random_state=101)"
   ]
  },
  {
   "cell_type": "code",
   "execution_count": 11,
   "metadata": {},
   "outputs": [],
   "source": [
    "# Fit the pipeline on the training data\n",
    "pipeline.fit(x_train, (y_train))\n",
    "\n",
    "# Make predictions on the test data\n",
    "y_pred = pipeline.predict(x_test)"
   ]
  },
  {
   "cell_type": "code",
   "execution_count": 12,
   "metadata": {},
   "outputs": [
    {
     "name": "stdout",
     "output_type": "stream",
     "text": [
      "Accuracy: 0.9985786802030456\n"
     ]
    }
   ],
   "source": [
    "# Checking accuracy on test data\n",
    "\n",
    "print(f'Accuracy: {accuracy_score(y_test, y_pred)}')"
   ]
  },
  {
   "cell_type": "code",
   "execution_count": 13,
   "metadata": {},
   "outputs": [
    {
     "data": {
      "text/plain": [
       "['D:/bmsAnomalyDetection/application/Anomaly-detection/notebook/artifacts/Model.pkl']"
      ]
     },
     "execution_count": 13,
     "metadata": {},
     "output_type": "execute_result"
    }
   ],
   "source": [
    "# Save the preprocessor\n",
    "joblib.dump(preprocessor,'D:/bmsAnomalyDetection/application/Anomaly-detection/notebook/artifacts/Preprocessor.pkl')\n",
    "\n",
    "# Save the model\n",
    "joblib.dump(pipeline, 'D:/bmsAnomalyDetection/application/Anomaly-detection/notebook/artifacts/Model.pkl')"
   ]
  }
 ],
 "metadata": {
  "kernelspec": {
   "display_name": "pycaretTest",
   "language": "python",
   "name": "python3"
  },
  "language_info": {
   "codemirror_mode": {
    "name": "ipython",
    "version": 3
   },
   "file_extension": ".py",
   "mimetype": "text/x-python",
   "name": "python",
   "nbconvert_exporter": "python",
   "pygments_lexer": "ipython3",
   "version": "3.7.0"
  }
 },
 "nbformat": 4,
 "nbformat_minor": 2
}
