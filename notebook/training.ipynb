{
 "cells": [
  {
   "cell_type": "code",
   "execution_count": 1,
   "metadata": {},
   "outputs": [],
   "source": [
    "# Importing necessary libraries\n",
    "\n",
    "import pandas as pd\n",
    "import numpy as np\n",
    "\n",
    "from sklearn.pipeline import Pipeline\n",
    "from sklearn.impute import SimpleImputer\n",
    "from sklearn.preprocessing import StandardScaler\n",
    "from sklearn.compose import ColumnTransformer\n",
    "from sklearn.ensemble import RandomForestClassifier\n",
    "from imblearn.over_sampling import RandomOverSampler\n",
    "from sklearn.model_selection import train_test_split\n",
    "from sklearn.metrics import accuracy_score\n",
    "import joblib"
   ]
  },
  {
   "cell_type": "code",
   "execution_count": 2,
   "metadata": {},
   "outputs": [
    {
     "data": {
      "text/html": [
       "<div>\n",
       "<style scoped>\n",
       "    .dataframe tbody tr th:only-of-type {\n",
       "        vertical-align: middle;\n",
       "    }\n",
       "\n",
       "    .dataframe tbody tr th {\n",
       "        vertical-align: top;\n",
       "    }\n",
       "\n",
       "    .dataframe thead th {\n",
       "        text-align: right;\n",
       "    }\n",
       "</style>\n",
       "<table border=\"1\" class=\"dataframe\">\n",
       "  <thead>\n",
       "    <tr style=\"text-align: right;\">\n",
       "      <th></th>\n",
       "      <th>Unnamed: 0</th>\n",
       "      <th>timestamps</th>\n",
       "      <th>BMS_state</th>\n",
       "      <th>BMS_soc</th>\n",
       "      <th>BMS_soh</th>\n",
       "      <th>BMS_bus_voltage</th>\n",
       "      <th>BMS_bus_current</th>\n",
       "      <th>BMS_isolation</th>\n",
       "      <th>BMS_max_cell_temp</th>\n",
       "      <th>BMS_max_cell_temp_id</th>\n",
       "      <th>...</th>\n",
       "      <th>OBC_port_status</th>\n",
       "      <th>OBC_overvoltage_fault</th>\n",
       "      <th>OBC_overcurrent_fault</th>\n",
       "      <th>OBC_output_voltage</th>\n",
       "      <th>OBC_output_current</th>\n",
       "      <th>OBC_port_weld_fault</th>\n",
       "      <th>OBC_internal_voltage</th>\n",
       "      <th>OBC_internal_current</th>\n",
       "      <th>Anomaly</th>\n",
       "      <th>Anomaly_Score</th>\n",
       "    </tr>\n",
       "  </thead>\n",
       "  <tbody>\n",
       "    <tr>\n",
       "      <th>0</th>\n",
       "      <td>0</td>\n",
       "      <td>2024-07-23 10:54:34.076000+05:30</td>\n",
       "      <td>3.0</td>\n",
       "      <td>95.000000</td>\n",
       "      <td>96.500000</td>\n",
       "      <td>443.800000</td>\n",
       "      <td>223.300000</td>\n",
       "      <td>1190.0</td>\n",
       "      <td>29.300000</td>\n",
       "      <td>1.0</td>\n",
       "      <td>...</td>\n",
       "      <td>0.0</td>\n",
       "      <td>0.0</td>\n",
       "      <td>0.0</td>\n",
       "      <td>348.000000</td>\n",
       "      <td>212.000000</td>\n",
       "      <td>0.0</td>\n",
       "      <td>345.000000</td>\n",
       "      <td>143.000000</td>\n",
       "      <td>0</td>\n",
       "      <td>301.415981</td>\n",
       "    </tr>\n",
       "    <tr>\n",
       "      <th>1</th>\n",
       "      <td>1</td>\n",
       "      <td>2024-07-23 10:54:39.076000+05:30</td>\n",
       "      <td>3.0</td>\n",
       "      <td>95.000000</td>\n",
       "      <td>96.106415</td>\n",
       "      <td>443.996792</td>\n",
       "      <td>222.414435</td>\n",
       "      <td>1190.0</td>\n",
       "      <td>29.102313</td>\n",
       "      <td>1.0</td>\n",
       "      <td>...</td>\n",
       "      <td>0.0</td>\n",
       "      <td>0.0</td>\n",
       "      <td>0.0</td>\n",
       "      <td>345.059976</td>\n",
       "      <td>251.200314</td>\n",
       "      <td>0.0</td>\n",
       "      <td>343.009653</td>\n",
       "      <td>161.410708</td>\n",
       "      <td>0</td>\n",
       "      <td>-47.702002</td>\n",
       "    </tr>\n",
       "    <tr>\n",
       "      <th>2</th>\n",
       "      <td>2</td>\n",
       "      <td>2024-07-23 10:54:44.076000+05:30</td>\n",
       "      <td>3.0</td>\n",
       "      <td>95.000000</td>\n",
       "      <td>95.712831</td>\n",
       "      <td>444.193585</td>\n",
       "      <td>221.528869</td>\n",
       "      <td>1190.0</td>\n",
       "      <td>28.904626</td>\n",
       "      <td>1.0</td>\n",
       "      <td>...</td>\n",
       "      <td>0.0</td>\n",
       "      <td>0.0</td>\n",
       "      <td>0.0</td>\n",
       "      <td>342.119953</td>\n",
       "      <td>290.400627</td>\n",
       "      <td>0.0</td>\n",
       "      <td>341.019306</td>\n",
       "      <td>179.821416</td>\n",
       "      <td>0</td>\n",
       "      <td>30.631203</td>\n",
       "    </tr>\n",
       "    <tr>\n",
       "      <th>3</th>\n",
       "      <td>3</td>\n",
       "      <td>2024-07-23 10:54:49.076000+05:30</td>\n",
       "      <td>3.0</td>\n",
       "      <td>95.094741</td>\n",
       "      <td>96.173705</td>\n",
       "      <td>445.763226</td>\n",
       "      <td>220.126256</td>\n",
       "      <td>1205.0</td>\n",
       "      <td>28.661967</td>\n",
       "      <td>2.0</td>\n",
       "      <td>...</td>\n",
       "      <td>0.0</td>\n",
       "      <td>0.0</td>\n",
       "      <td>0.0</td>\n",
       "      <td>344.309767</td>\n",
       "      <td>291.076093</td>\n",
       "      <td>0.0</td>\n",
       "      <td>339.028960</td>\n",
       "      <td>198.232124</td>\n",
       "      <td>0</td>\n",
       "      <td>5.399433</td>\n",
       "    </tr>\n",
       "    <tr>\n",
       "      <th>4</th>\n",
       "      <td>4</td>\n",
       "      <td>2024-07-23 10:54:54.076000+05:30</td>\n",
       "      <td>3.0</td>\n",
       "      <td>95.192675</td>\n",
       "      <td>96.663373</td>\n",
       "      <td>447.379130</td>\n",
       "      <td>218.706219</td>\n",
       "      <td>1205.0</td>\n",
       "      <td>28.418231</td>\n",
       "      <td>2.0</td>\n",
       "      <td>...</td>\n",
       "      <td>0.0</td>\n",
       "      <td>0.0</td>\n",
       "      <td>0.0</td>\n",
       "      <td>346.717781</td>\n",
       "      <td>290.112888</td>\n",
       "      <td>0.0</td>\n",
       "      <td>337.038613</td>\n",
       "      <td>216.642832</td>\n",
       "      <td>0</td>\n",
       "      <td>255.746391</td>\n",
       "    </tr>\n",
       "  </tbody>\n",
       "</table>\n",
       "<p>5 rows × 34 columns</p>\n",
       "</div>"
      ],
      "text/plain": [
       "   Unnamed: 0                        timestamps  BMS_state    BMS_soc  \\\n",
       "0           0  2024-07-23 10:54:34.076000+05:30        3.0  95.000000   \n",
       "1           1  2024-07-23 10:54:39.076000+05:30        3.0  95.000000   \n",
       "2           2  2024-07-23 10:54:44.076000+05:30        3.0  95.000000   \n",
       "3           3  2024-07-23 10:54:49.076000+05:30        3.0  95.094741   \n",
       "4           4  2024-07-23 10:54:54.076000+05:30        3.0  95.192675   \n",
       "\n",
       "     BMS_soh  BMS_bus_voltage  BMS_bus_current  BMS_isolation  \\\n",
       "0  96.500000       443.800000       223.300000         1190.0   \n",
       "1  96.106415       443.996792       222.414435         1190.0   \n",
       "2  95.712831       444.193585       221.528869         1190.0   \n",
       "3  96.173705       445.763226       220.126256         1205.0   \n",
       "4  96.663373       447.379130       218.706219         1205.0   \n",
       "\n",
       "   BMS_max_cell_temp  BMS_max_cell_temp_id  ...  OBC_port_status  \\\n",
       "0          29.300000                   1.0  ...              0.0   \n",
       "1          29.102313                   1.0  ...              0.0   \n",
       "2          28.904626                   1.0  ...              0.0   \n",
       "3          28.661967                   2.0  ...              0.0   \n",
       "4          28.418231                   2.0  ...              0.0   \n",
       "\n",
       "   OBC_overvoltage_fault  OBC_overcurrent_fault  OBC_output_voltage  \\\n",
       "0                    0.0                    0.0          348.000000   \n",
       "1                    0.0                    0.0          345.059976   \n",
       "2                    0.0                    0.0          342.119953   \n",
       "3                    0.0                    0.0          344.309767   \n",
       "4                    0.0                    0.0          346.717781   \n",
       "\n",
       "   OBC_output_current  OBC_port_weld_fault  OBC_internal_voltage  \\\n",
       "0          212.000000                  0.0            345.000000   \n",
       "1          251.200314                  0.0            343.009653   \n",
       "2          290.400627                  0.0            341.019306   \n",
       "3          291.076093                  0.0            339.028960   \n",
       "4          290.112888                  0.0            337.038613   \n",
       "\n",
       "   OBC_internal_current  Anomaly  Anomaly_Score  \n",
       "0            143.000000        0     301.415981  \n",
       "1            161.410708        0     -47.702002  \n",
       "2            179.821416        0      30.631203  \n",
       "3            198.232124        0       5.399433  \n",
       "4            216.642832        0     255.746391  \n",
       "\n",
       "[5 rows x 34 columns]"
      ]
     },
     "execution_count": 2,
     "metadata": {},
     "output_type": "execute_result"
    }
   ],
   "source": [
    "# Importing labelled dataset from the detection module\n",
    "\n",
    "df = pd.read_csv('D:/bmsAnomalyDetection/application/Anomaly-detection/notebook/data/labelledData.csv')\n",
    "df.head()"
   ]
  },
  {
   "cell_type": "code",
   "execution_count": 3,
   "metadata": {},
   "outputs": [],
   "source": [
    "# Correcting data-type of categorical features and dropping few irrelevant like: 'Anomaly_Score','Unnamed: 0','timestamps'\n",
    "\n",
    "df['BMS_max_cell_temp_id'] = df['BMS_max_cell_temp_id'].astype('object')\n",
    "df['BMS_state'] = df['BMS_state'].astype('object')\n",
    "df['BMS_min_cell_temp_id'] = df['BMS_min_cell_temp_id'].astype('object')\n",
    "df['BMS_max_cell_voltage_id'] = df['BMS_max_cell_voltage_id'].astype('object')\n",
    "df['BMS_min_cell_voltage_id'] = df['BMS_min_cell_voltage_id'].astype('object')\n",
    "df['OBC_mux'] = df['OBC_mux'].astype('object')\n",
    "df['OBC_port_status'] = df['OBC_port_status'].astype('object')\n",
    "df['OBC_overvoltage_fault'] = df['OBC_overvoltage_fault'].astype('object')\n",
    "df['OBC_overcurrent_fault'] = df['OBC_overcurrent_fault'].astype('object')\n",
    "df['OBC_port_weld_fault'] = df['OBC_port_weld_fault'].astype('object')\n",
    "df['Anomaly'] = df['Anomaly'].astype('object')\n",
    "\n",
    "df = df.drop(['Anomaly_Score','Unnamed: 0','timestamps'], axis = 1)"
   ]
  },
  {
   "cell_type": "code",
   "execution_count": 4,
   "metadata": {},
   "outputs": [
    {
     "data": {
      "text/plain": [
       "(17280, 31)"
      ]
     },
     "execution_count": 4,
     "metadata": {},
     "output_type": "execute_result"
    }
   ],
   "source": [
    "df.shape"
   ]
  },
  {
   "cell_type": "code",
   "execution_count": 5,
   "metadata": {},
   "outputs": [],
   "source": [
    "# Isolating predictor features from target feature\n",
    "\n",
    "x = df.drop('Anomaly', axis =1)\n",
    "y = df['Anomaly'].astype('int')"
   ]
  },
  {
   "cell_type": "code",
   "execution_count": 6,
   "metadata": {},
   "outputs": [],
   "source": [
    "# Isolating Numerical & Categorical variables\n",
    "\n",
    "char = []\n",
    "num = []\n",
    "\n",
    "for i in x.columns:\n",
    "    if x[i].dtype == 'object':\n",
    "        char.append(i)\n",
    "    else:\n",
    "        num.append(i)"
   ]
  },
  {
   "cell_type": "code",
   "execution_count": 7,
   "metadata": {},
   "outputs": [
    {
     "name": "stdout",
     "output_type": "stream",
     "text": [
      "['BMS_state', 'BMS_max_cell_temp_id', 'BMS_min_cell_temp_id', 'BMS_max_cell_voltage_id', 'BMS_min_cell_voltage_id', 'OBC_mux', 'OBC_port_status', 'OBC_overvoltage_fault', 'OBC_overcurrent_fault', 'OBC_port_weld_fault']\n",
      "\n",
      "['BMS_soc', 'BMS_soh', 'BMS_bus_voltage', 'BMS_bus_current', 'BMS_isolation', 'BMS_max_cell_temp', 'BMS_min_cell_temp', 'BMS_max_cell_voltage', 'BMS_min_cell_voltage', 'LV_soc', 'LV_soh', 'LV_voltage', 'LV_current', 'LV_temperature', 'MCU_motor_speed', 'MCU_motor_avg_temp', 'OBC_output_voltage', 'OBC_output_current', 'OBC_internal_voltage', 'OBC_internal_current']\n"
     ]
    }
   ],
   "source": [
    "print(char)\n",
    "print()\n",
    "print(num)\n"
   ]
  },
  {
   "cell_type": "code",
   "execution_count": 6,
   "metadata": {},
   "outputs": [],
   "source": [
    "# Numeric transformations: Impute missing values and scaling\n",
    "\n",
    "numeric_transformer = Pipeline(steps=[\n",
    "    ('imputer', SimpleImputer(strategy='mean')),\n",
    "    ('scaler', StandardScaler())\n",
    "])\n",
    "\n",
    "# Categorical transformations: Impute missing and OneHotEncode\n",
    "\n",
    "categorical_transformer = Pipeline(steps=[\n",
    "    ('imputer', SimpleImputer(strategy='most_frequent'))\n",
    "])"
   ]
  },
  {
   "cell_type": "code",
   "execution_count": 7,
   "metadata": {},
   "outputs": [],
   "source": [
    "# Use ColumnTransformer to apply transformations\n",
    "\n",
    "preprocessor = ColumnTransformer(\n",
    "    transformers=[\n",
    "        ('num', numeric_transformer, num),\n",
    "        ('cat', categorical_transformer, char)\n",
    "    ])"
   ]
  },
  {
   "cell_type": "code",
   "execution_count": 8,
   "metadata": {},
   "outputs": [],
   "source": [
    "# Create the final pipeline\n",
    "\n",
    "pipeline = Pipeline(steps=[\n",
    "    ('preprocessor', preprocessor),\n",
    "    ('classifier', RandomForestClassifier(n_estimators=100, random_state=42))\n",
    "])\n"
   ]
  },
  {
   "cell_type": "code",
   "execution_count": 9,
   "metadata": {},
   "outputs": [],
   "source": [
    "# Performing RandomOverSampling to address Imbalance data\n",
    "\n",
    "sampler = RandomOverSampler(random_state=0,sampling_strategy='auto')\n",
    "x_resampled, y_resampled = sampler.fit_resample(x,y)"
   ]
  },
  {
   "cell_type": "code",
   "execution_count": 10,
   "metadata": {},
   "outputs": [],
   "source": [
    "# Train test split\n",
    "\n",
    "x_train, x_test,y_train, y_test = train_test_split(x_resampled, y_resampled, test_size=0.3, random_state=101)"
   ]
  },
  {
   "cell_type": "code",
   "execution_count": 11,
   "metadata": {},
   "outputs": [],
   "source": [
    "# Fit the pipeline on the training data\n",
    "pipeline.fit(x_train, (y_train))\n",
    "\n",
    "# Make predictions on the test data\n",
    "y_pred = pipeline.predict(x_test)"
   ]
  },
  {
   "cell_type": "code",
   "execution_count": null,
   "metadata": {},
   "outputs": [],
   "source": [
    "# Checking accuracy on test data\n",
    "\n",
    "print(f'Accuracy: {accuracy_score(y_test, y_pred)}')"
   ]
  },
  {
   "cell_type": "code",
   "execution_count": null,
   "metadata": {},
   "outputs": [],
   "source": [
    "# Save the preprocessor\n",
    "joblib.dump(preprocessor,'D:/bmsAnomalyDetection/application/Anomaly-detection/notebook/artifacts/Preprocessor.pkl')\n",
    "\n",
    "# Save the model\n",
    "joblib.dump(pipeline, 'D:/bmsAnomalyDetection/application/Anomaly-detection/notebook/artifacts/Model.pkl')"
   ]
  }
 ],
 "metadata": {
  "kernelspec": {
   "display_name": "pycaretTest",
   "language": "python",
   "name": "python3"
  },
  "language_info": {
   "codemirror_mode": {
    "name": "ipython",
    "version": 3
   },
   "file_extension": ".py",
   "mimetype": "text/x-python",
   "name": "python",
   "nbconvert_exporter": "python",
   "pygments_lexer": "ipython3",
   "version": "3.7.0"
  }
 },
 "nbformat": 4,
 "nbformat_minor": 2
}
